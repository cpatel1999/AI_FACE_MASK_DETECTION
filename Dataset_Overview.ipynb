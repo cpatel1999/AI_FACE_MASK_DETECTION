{
 "cells": [
  {
   "cell_type": "code",
   "execution_count": 1,
   "id": "db85b2ce",
   "metadata": {},
   "outputs": [],
   "source": [
    "import os\n",
    "import pandas as pd\n",
    "\n",
    "root_dir = './data'\n",
    "data_folder = \"./data/face-mask-detection-dataset\""
   ]
  },
  {
   "cell_type": "code",
   "execution_count": 2,
   "id": "731c4853",
   "metadata": {},
   "outputs": [],
   "source": [
    "columns = [\"filename\", \"classname\"]\n",
    "def get_preprocessed_df():\n",
    "    return pd.read_csv(os.path.join(root_dir, \"preprocessed\", \"data.csv\"),\n",
    "                        skiprows=1, names=columns)\n"
   ]
  },
  {
   "cell_type": "code",
   "execution_count": 3,
   "id": "a2b2404a",
   "metadata": {},
   "outputs": [],
   "source": [
    "def preview_classes():\n",
    "    classes = []\n",
    "    preselected_class_count = {\n",
    "        \"mask_colorful\": 0,\n",
    "        \"face_no_mask\": 0,\n",
    "        \"ffp2_mask\": 0,\n",
    "        \"mask_surgical\": 0\n",
    "    }\n",
    "    train_df = get_preprocessed_df()\n",
    "    for row_index in range(len(train_df)):\n",
    "        className = train_df[columns[1]][row_index]\n",
    "        if className not in classes:\n",
    "            classes.append(className)\n",
    "        if className in preselected_class_count.keys():\n",
    "            preselected_class_count[className] += 1\n",
    "    print(preselected_class_count)"
   ]
  },
  {
   "cell_type": "code",
   "execution_count": 4,
   "id": "ab05ffea",
   "metadata": {},
   "outputs": [
    {
     "name": "stdout",
     "output_type": "stream",
     "text": [
      "{'mask_colorful': 400, 'face_no_mask': 400, 'ffp2_mask': 133, 'mask_surgical': 400}\n"
     ]
    }
   ],
   "source": [
    "preview_classes()"
   ]
  },
  {
   "cell_type": "code",
   "execution_count": 5,
   "id": "faca8ea9",
   "metadata": {},
   "outputs": [
    {
     "data": {
      "text/html": [
       "<div>\n",
       "<style scoped>\n",
       "    .dataframe tbody tr th:only-of-type {\n",
       "        vertical-align: middle;\n",
       "    }\n",
       "\n",
       "    .dataframe tbody tr th {\n",
       "        vertical-align: top;\n",
       "    }\n",
       "\n",
       "    .dataframe thead th {\n",
       "        text-align: right;\n",
       "    }\n",
       "</style>\n",
       "<table border=\"1\" class=\"dataframe\">\n",
       "  <thead>\n",
       "    <tr style=\"text-align: right;\">\n",
       "      <th></th>\n",
       "      <th>filename</th>\n",
       "      <th>classname</th>\n",
       "    </tr>\n",
       "  </thead>\n",
       "  <tbody>\n",
       "    <tr>\n",
       "      <th>0</th>\n",
       "      <td>1001.png</td>\n",
       "      <td>mask_colorful</td>\n",
       "    </tr>\n",
       "    <tr>\n",
       "      <th>1</th>\n",
       "      <td>1002.jpg</td>\n",
       "      <td>face_no_mask</td>\n",
       "    </tr>\n",
       "    <tr>\n",
       "      <th>2</th>\n",
       "      <td>1003.png</td>\n",
       "      <td>mask_surgical</td>\n",
       "    </tr>\n",
       "    <tr>\n",
       "      <th>3</th>\n",
       "      <td>1004.png</td>\n",
       "      <td>mask_colorful</td>\n",
       "    </tr>\n",
       "    <tr>\n",
       "      <th>4</th>\n",
       "      <td>1005.jpg</td>\n",
       "      <td>face_no_mask</td>\n",
       "    </tr>\n",
       "  </tbody>\n",
       "</table>\n",
       "</div>"
      ],
      "text/plain": [
       "   filename      classname\n",
       "0  1001.png  mask_colorful\n",
       "1  1002.jpg   face_no_mask\n",
       "2  1003.png  mask_surgical\n",
       "3  1004.png  mask_colorful\n",
       "4  1005.jpg   face_no_mask"
      ]
     },
     "execution_count": 5,
     "metadata": {},
     "output_type": "execute_result"
    }
   ],
   "source": [
    "train_df = get_preprocessed_df()\n",
    "\n",
    "train_df.head()"
   ]
  }
 ],
 "metadata": {
  "kernelspec": {
   "display_name": "Python 3.8.8 64-bit ('base': conda)",
   "language": "python",
   "name": "python388jvsc74a57bd040d3a090f54c6569ab1632332b64b2c03c39dcf918b08424e98f38b5ae0af88f"
  },
  "language_info": {
   "codemirror_mode": {
    "name": "ipython",
    "version": 3
   },
   "file_extension": ".py",
   "mimetype": "text/x-python",
   "name": "python",
   "nbconvert_exporter": "python",
   "pygments_lexer": "ipython3",
   "version": "3.8.8"
  }
 },
 "nbformat": 4,
 "nbformat_minor": 5
}
