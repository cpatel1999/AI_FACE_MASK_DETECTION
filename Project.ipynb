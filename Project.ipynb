{
 "cells": [
  {
   "cell_type": "code",
   "execution_count": 2,
   "id": "ZwmOvfWynTeL",
   "metadata": {
    "colab": {
     "base_uri": "https://localhost:8080/"
    },
    "id": "ZwmOvfWynTeL",
    "outputId": "77fd2e27-1251-4855-d8ec-b0bd61243d8d"
   },
   "outputs": [
    {
     "name": "stdout",
     "output_type": "stream",
     "text": [
      "Mounted at /content/drive\n"
     ]
    }
   ],
   "source": [
    "# from google.colab import drive\n",
    "# drive.mount('/content/drive')"
   ]
  },
  {
   "cell_type": "code",
   "execution_count": 3,
   "id": "6580d713",
   "metadata": {
    "id": "6580d713"
   },
   "outputs": [],
   "source": [
    "import pandas as pd\n",
    "import os\n",
    "from torch.utils.data import Dataset\n",
    "from PIL import Image\n",
    "import random\n",
    "import torch\n",
    "import torch.nn as nn\n",
    "import torchvision.transforms as transforms\n",
    "\n",
    "columns = [\"filename\", \"classname\"]\n",
    "\n",
    "BASE = \"./data\"\n",
    "# BASE = \"/content/drive/MyDrive/Colab Notebooks/data/preprocessed\"\n",
    "data_csv_file = os.path.join(BASE, \"./data.csv\")\n",
    "data_folder = os.path.join(BASE, \"./images\")\n",
    "root_folder = os.path.join(BASE, \"./\")\n",
    "\n",
    "data_df = pd.read_csv(data_csv_file, skiprows=1, names=columns)"
   ]
  },
  {
   "cell_type": "code",
   "execution_count": 4,
   "id": "d09f94dc",
   "metadata": {
    "id": "d09f94dc"
   },
   "outputs": [],
   "source": [
    "# get image data\n",
    "def getImageData(folder, image_file):\n",
    "    return Image.open(os.path.join(folder, image_file)).convert('RGB') # Load the image\n",
    "\n",
    "# create directory\n",
    "def make_dir(dir_path):\n",
    "    if not os.path.isdir(dir_path):\n",
    "        os.makedirs(dir_path)\n",
    "\n",
    "model_path = os.path.join(root_folder, 'model', 'face_mask_detection.pth')\n",
    "# make_dir(model_path)\n",
    "\n",
    "# predefined classes\n",
    "classes = {\n",
    "    \"mask_colorful\": 0,\n",
    "    \"face_no_mask\": 1,\n",
    "    \"mask_surgical\": 2,\n",
    "    \"ffp2_mask\": 3\n",
    "}\n"
   ]
  },
  {
   "cell_type": "code",
   "execution_count": 5,
   "id": "9002c180",
   "metadata": {
    "id": "9002c180"
   },
   "outputs": [],
   "source": [
    "class FaceMaskDataset(Dataset):\n",
    "    dataset = []\n",
    "    conversion = None\n",
    "\n",
    "    def __init__(self, indexes, conversion=transforms.ToTensor()):\n",
    "        self.conversion = conversion\n",
    "        for rowIndex in indexes:\n",
    "            sample = {}\n",
    "            sample['image'] = getImageData(data_folder, data_df[columns[0]][rowIndex])\n",
    "            sample['target'] = classes[data_df[columns[1]][rowIndex]]\n",
    "            self.dataset.append(sample)\n",
    "\n",
    "    def __len__(self):\n",
    "        return len(self.dataset)\n",
    "\n",
    "    def __getitem__(self, index):\n",
    "        image = self.dataset[index]['image']\n",
    "        if self.conversion is not None:\n",
    "            image = self.conversion(image)\n",
    "        return image, self.dataset[index]['target']"
   ]
  },
  {
   "cell_type": "code",
   "execution_count": 6,
   "id": "47d105e6",
   "metadata": {
    "colab": {
     "base_uri": "https://localhost:8080/"
    },
    "id": "47d105e6",
    "outputId": "2c75890a-6bfc-4e6c-a985-40cfed064a68"
   },
   "outputs": [
    {
     "name": "stdout",
     "output_type": "stream",
     "text": [
      "size_of_the_dataset 1333\n",
      "Effective train split = 74.94373593398349%\n",
      "Effective val split = 15.003750937734434%\n",
      "Effective test split = 10.05251312828207%\n"
     ]
    }
   ],
   "source": [
    "train_split_percentage = 0.75\n",
    "val_split_percentage = 0.15\n",
    "test_split_percentage = 0.1\n",
    "size_of_the_dataset = int(data_df.shape[0])\n",
    "\n",
    "\n",
    "print(\"size_of_the_dataset\", size_of_the_dataset)\n",
    "\n",
    "batch_size = 25\n",
    "num_of_classes = len(classes.keys())\n",
    "\n",
    "indexes = list(range(size_of_the_dataset))\n",
    "random.shuffle(indexes)\n",
    "\n",
    "\n",
    "train_indexes = indexes[:int(train_split_percentage*len(indexes))]\n",
    "val_indexes = indexes[int(train_split_percentage*len(indexes))                      :int((train_split_percentage + val_split_percentage)*len(indexes))]\n",
    "test_indexes = indexes[int(\n",
    "    (train_split_percentage + val_split_percentage)*len(indexes)):]\n",
    "\n",
    "\n",
    "print(f\"Effective train split = {len(train_indexes)/len(indexes)*100}%\")\n",
    "print(f\"Effective val split = {len(val_indexes)/len(indexes)*100}%\")\n",
    "print(f\"Effective test split = {len(test_indexes)/len(indexes)*100}%\")"
   ]
  },
  {
   "cell_type": "code",
   "execution_count": 7,
   "id": "xWtJ0bEh7obY",
   "metadata": {
    "id": "xWtJ0bEh7obY"
   },
   "outputs": [],
   "source": [
    "transform = transforms.Compose(\n",
    "    [transforms.Resize((250, 250)),\n",
    "        transforms.ToTensor(),\n",
    "        transforms.Normalize(mean=[0.485, 0.456, 0.406],\n",
    "                                       std=[0.229, 0.224, 0.225])])"
   ]
  },
  {
   "cell_type": "code",
   "execution_count": 8,
   "id": "c58831c3",
   "metadata": {
    "colab": {
     "base_uri": "https://localhost:8080/"
    },
    "id": "c58831c3",
    "outputId": "11e18436-0492-4cbb-b3e3-078790cd2f87"
   },
   "outputs": [
    {
     "name": "stdout",
     "output_type": "stream",
     "text": [
      "Loading training set\n",
      "Loading validation set\n"
     ]
    }
   ],
   "source": [
    "print(\"Loading training set\")\n",
    "train_dataset = FaceMaskDataset(train_indexes, conversion=transform)\n",
    "print(\"Loading validation set\")\n",
    "val_dataset = FaceMaskDataset(val_indexes, conversion=transform)\n",
    "train_loader = torch.utils.data.DataLoader(\n",
    "    dataset=train_dataset, batch_size=batch_size, shuffle=True, num_workers=0)\n",
    "val_loader = torch.utils.data.DataLoader(\n",
    "    dataset=val_dataset, batch_size=batch_size, shuffle=False, num_workers=0)"
   ]
  },
  {
   "cell_type": "code",
   "execution_count": 9,
   "id": "c67379d5",
   "metadata": {
    "colab": {
     "base_uri": "https://localhost:8080/"
    },
    "id": "c67379d5",
    "outputId": "5b39b279-c8c8-424f-862f-76e405c3aecf"
   },
   "outputs": [
    {
     "name": "stdout",
     "output_type": "stream",
     "text": [
      "Using device: cuda\n"
     ]
    }
   ],
   "source": [
    "device = torch.device('cuda' if torch.cuda.is_available() else 'cpu')\n",
    "print('Using device:', device)"
   ]
  },
  {
   "cell_type": "code",
   "execution_count": 10,
   "id": "0a2b3745",
   "metadata": {
    "id": "0a2b3745"
   },
   "outputs": [],
   "source": [
    "import torch.nn as nn\n",
    "import torch.nn.functional as F\n",
    "\n",
    "class FaceMaskClassificationBase(nn.Module):\n",
    "    def training_step(self, batch):\n",
    "        images, labels = batch \n",
    "        images, labels = images.to(device), labels.to(device)\n",
    "        out = self(images)                  # Generate predictions\n",
    "        loss = F.cross_entropy(out, labels) # Calculate loss\n",
    "        return loss\n",
    "    \n",
    "    def validation_step(self, batch):\n",
    "        images, labels = batch \n",
    "        images, labels = images.to(device), labels.to(device)\n",
    "        out = self(images)                    # Generate predictions\n",
    "        loss = F.cross_entropy(out, labels)   # Calculate loss\n",
    "        acc = accuracy(out, labels)           # Calculate accuracy\n",
    "        return {'val_loss': loss.detach(), 'val_acc': acc}\n",
    "        \n",
    "    def validation_epoch_end(self, outputs):\n",
    "        batch_losses = [x['val_loss'] for x in outputs]\n",
    "        epoch_loss = torch.stack(batch_losses).mean()   # Combine losses\n",
    "        batch_accs = [x['val_acc'] for x in outputs]\n",
    "        epoch_acc = torch.stack(batch_accs).mean()      # Combine accuracies\n",
    "        return {'val_loss': epoch_loss.item(), 'val_acc': epoch_acc.item()}\n",
    "    \n",
    "    def epoch_end(self, epoch, result):\n",
    "        print(\"Epoch [{}], train_loss: {:.4f}, val_loss: {:.4f}, val_acc: {:.4f}\".format(\n",
    "            epoch+1, result['train_loss'], result['val_loss'], result['val_acc']))"
   ]
  },
  {
   "cell_type": "code",
   "execution_count": 11,
   "id": "0323ceca",
   "metadata": {
    "id": "0323ceca"
   },
   "outputs": [],
   "source": [
    "class CNN(FaceMaskClassificationBase):\n",
    "    def __init__(self):\n",
    "        super(CNN, self).__init__()\n",
    "        self.conv_layer = nn.Sequential(\n",
    "            nn.Conv2d(in_channels=3, out_channels=32, kernel_size=3, padding=1),\n",
    "            nn.BatchNorm2d(32),\n",
    "            nn.LeakyReLU(inplace=True),\n",
    "            nn.Conv2d(in_channels=32, out_channels=32, kernel_size=3, padding=1),\n",
    "            nn.BatchNorm2d(32),\n",
    "            nn.LeakyReLU(inplace=True),\n",
    "            nn.MaxPool2d(kernel_size=2, stride=2),\n",
    "            nn.Conv2d(in_channels=32, out_channels=64, kernel_size=3, padding=1),\n",
    "            nn.BatchNorm2d(64),\n",
    "            nn.LeakyReLU(inplace=True),\n",
    "            nn.Conv2d(in_channels=64, out_channels=64, kernel_size=3, padding=1),\n",
    "            nn.BatchNorm2d(64),\n",
    "            nn.LeakyReLU(inplace=True),\n",
    "            nn.MaxPool2d(kernel_size=2, stride=2),\n",
    "        )\n",
    "        self.fc_layer = nn.Sequential(\n",
    "            nn.Dropout(p=0.1),\n",
    "            nn.Linear(246016, 1024),\n",
    "            nn.ReLU(inplace=True),\n",
    "            nn.Linear(1024, 512),\n",
    "            nn.ReLU(inplace=True),\n",
    "            nn.Dropout(p=0.1),\n",
    "            nn.Linear(512, num_of_classes),\n",
    "        )\n",
    "\n",
    "    def forward(self, x):\n",
    "        # conv layers\n",
    "        x = self.conv_layer(x)\n",
    "        # flatten\n",
    "        x = x.view(x.size(0), -1)\n",
    "        # fc layer\n",
    "        x = self.fc_layer(x)\n",
    "        return x\n"
   ]
  },
  {
   "cell_type": "code",
   "execution_count": 12,
   "id": "QUOnI_PUZ1SM",
   "metadata": {
    "id": "QUOnI_PUZ1SM"
   },
   "outputs": [],
   "source": [
    "def accuracy(outputs, labels):\n",
    "    _, preds = torch.max(outputs, dim=1)\n",
    "    return torch.tensor(torch.sum(preds == labels).item() / len(preds))\n",
    "\n",
    "  \n",
    "@torch.no_grad()\n",
    "def evaluate(model, val_loader):\n",
    "    model.eval()\n",
    "    outputs = [model.validation_step(batch) for batch in val_loader]\n",
    "    return model.validation_epoch_end(outputs)\n",
    "\n",
    "  \n",
    "def fit(epochs, lr, model, train_loader, val_loader, opt_func = torch.optim.SGD):\n",
    "    \n",
    "    history = []\n",
    "    optimizer = opt_func(model.parameters(),lr)\n",
    "    for epoch in range(epochs):\n",
    "        model.train()\n",
    "        train_losses = []\n",
    "        for batch in train_loader:\n",
    "            images, labels = batch\n",
    "            # forward-pass: compute-predicted-outputs-by-passing-inputs-to-the-model\n",
    "            loss = model.training_step(batch)\n",
    "            # update-training-loss\n",
    "            train_losses.append(loss)\n",
    "            # backward-pass: compute-gradient-of-the-loss-wrt-model-parameters\n",
    "            loss.backward()\n",
    "            # perform-a-single-optimization-step (parameter-update)\n",
    "            optimizer.step()\n",
    "            # clear-the-gradients-of-all-optimized-variables\n",
    "            optimizer.zero_grad()\n",
    "            \n",
    "        result = evaluate(model, val_loader)\n",
    "        result['train_loss'] = torch.stack(train_losses).mean().item()\n",
    "        model.epoch_end(epoch, result)\n",
    "        history.append(result)\n",
    "    \n",
    "    return history"
   ]
  },
  {
   "cell_type": "code",
   "execution_count": 13,
   "id": "d49d62d7",
   "metadata": {
    "id": "d49d62d7"
   },
   "outputs": [],
   "source": [
    "model = CNN()\n",
    "model = model.to(device)"
   ]
  },
  {
   "cell_type": "code",
   "execution_count": 17,
   "id": "Z3W0xodT6zii",
   "metadata": {
    "colab": {
     "base_uri": "https://localhost:8080/"
    },
    "id": "Z3W0xodT6zii",
    "outputId": "63f0b152-4664-414b-e68c-8799bde81c60"
   },
   "outputs": [
    {
     "name": "stdout",
     "output_type": "stream",
     "text": [
      "Epoch [1], train_loss: 15.0505, val_loss: 1.2846, val_acc: 0.3876\n",
      "Epoch [2], train_loss: 1.3070, val_loss: 1.1906, val_acc: 0.4562\n",
      "Epoch [3], train_loss: 1.2435, val_loss: 1.0950, val_acc: 0.5312\n",
      "Epoch [4], train_loss: 1.1679, val_loss: 1.0612, val_acc: 0.5336\n",
      "Epoch [5], train_loss: 1.1380, val_loss: 0.9806, val_acc: 0.5788\n",
      "Epoch [6], train_loss: 1.0268, val_loss: 0.8878, val_acc: 0.6162\n",
      "Epoch [7], train_loss: 0.9163, val_loss: 0.7731, val_acc: 0.6754\n",
      "Epoch [8], train_loss: 0.9211, val_loss: 0.6946, val_acc: 0.7246\n",
      "Epoch [9], train_loss: 0.6914, val_loss: 1.4701, val_acc: 0.5489\n",
      "Epoch [10], train_loss: 0.6541, val_loss: 0.4591, val_acc: 0.8382\n",
      "Epoch [11], train_loss: 0.5313, val_loss: 0.3292, val_acc: 0.8882\n",
      "Epoch [12], train_loss: 0.4119, val_loss: 0.2786, val_acc: 0.9057\n",
      "Epoch [13], train_loss: 0.3344, val_loss: 0.2258, val_acc: 0.9233\n",
      "Epoch [14], train_loss: 0.2599, val_loss: 0.1481, val_acc: 0.9475\n",
      "Epoch [15], train_loss: 0.2063, val_loss: 0.1523, val_acc: 0.9466\n",
      "Epoch [16], train_loss: 0.2586, val_loss: 0.2641, val_acc: 0.9032\n",
      "Epoch [17], train_loss: 0.2154, val_loss: 0.2187, val_acc: 0.9266\n",
      "Epoch [18], train_loss: 0.2186, val_loss: 0.1688, val_acc: 0.9366\n",
      "Epoch [19], train_loss: 0.2638, val_loss: 0.2290, val_acc: 0.9241\n",
      "Epoch [20], train_loss: 0.2356, val_loss: 0.1618, val_acc: 0.9349\n",
      "Epoch [21], train_loss: 0.1339, val_loss: 0.0703, val_acc: 0.9708\n",
      "Epoch [22], train_loss: 0.1429, val_loss: 0.1028, val_acc: 0.9649\n",
      "Epoch [23], train_loss: 0.1408, val_loss: 0.1069, val_acc: 0.9608\n",
      "Epoch [24], train_loss: 0.1242, val_loss: 0.1278, val_acc: 0.9575\n",
      "Epoch [25], train_loss: 0.1641, val_loss: 0.1078, val_acc: 0.9566\n",
      "Epoch [26], train_loss: 0.1369, val_loss: 0.1810, val_acc: 0.9358\n",
      "Epoch [27], train_loss: 0.1604, val_loss: 0.0767, val_acc: 0.9667\n",
      "Epoch [28], train_loss: 0.0973, val_loss: 0.0499, val_acc: 0.9758\n",
      "Epoch [29], train_loss: 0.0862, val_loss: 0.0674, val_acc: 0.9700\n",
      "Epoch [30], train_loss: 0.0659, val_loss: 0.0442, val_acc: 0.9767\n",
      "Epoch [31], train_loss: 0.0522, val_loss: 0.0415, val_acc: 0.9767\n",
      "Epoch [32], train_loss: 0.0505, val_loss: 0.0370, val_acc: 0.9767\n",
      "Epoch [33], train_loss: 0.0655, val_loss: 0.0590, val_acc: 0.9708\n",
      "Epoch [34], train_loss: 0.0583, val_loss: 0.0587, val_acc: 0.9742\n",
      "Epoch [35], train_loss: 0.0866, val_loss: 0.0635, val_acc: 0.9692\n",
      "Epoch [36], train_loss: 0.0993, val_loss: 0.0632, val_acc: 0.9700\n",
      "Epoch [37], train_loss: 0.0790, val_loss: 0.0772, val_acc: 0.9650\n",
      "Epoch [38], train_loss: 0.0881, val_loss: 0.1019, val_acc: 0.9558\n",
      "Epoch [39], train_loss: 0.2342, val_loss: 0.2371, val_acc: 0.9133\n",
      "Epoch [40], train_loss: 0.1254, val_loss: 0.1197, val_acc: 0.9508\n",
      "Epoch [41], train_loss: 0.1129, val_loss: 0.0691, val_acc: 0.9674\n",
      "Epoch [42], train_loss: 0.0768, val_loss: 0.0550, val_acc: 0.9708\n",
      "Epoch [43], train_loss: 0.1284, val_loss: 0.0689, val_acc: 0.9658\n",
      "Epoch [44], train_loss: 0.1041, val_loss: 0.1191, val_acc: 0.9558\n",
      "Epoch [45], train_loss: 0.1877, val_loss: 0.1740, val_acc: 0.9375\n",
      "Epoch [46], train_loss: 0.1199, val_loss: 0.1038, val_acc: 0.9658\n",
      "Epoch [47], train_loss: 0.0983, val_loss: 0.1048, val_acc: 0.9641\n",
      "Epoch [48], train_loss: 0.0897, val_loss: 0.0486, val_acc: 0.9758\n",
      "Epoch [49], train_loss: 0.0811, val_loss: 0.0803, val_acc: 0.9667\n",
      "Epoch [50], train_loss: 0.1261, val_loss: 0.0718, val_acc: 0.9700\n"
     ]
    }
   ],
   "source": [
    "history = fit(50, 0.001, model, train_loader, val_loader, torch.optim.Adam)\n",
    "\n",
    "torch.save(model, model_path)"
   ]
  },
  {
   "cell_type": "code",
   "execution_count": 18,
   "id": "205783a4",
   "metadata": {
    "colab": {
     "base_uri": "https://localhost:8080/",
     "height": 295
    },
    "id": "205783a4",
    "outputId": "1d083c79-2d86-47a5-dc86-7dda8b779228"
   },
   "outputs": [
    {
     "data": {
      "image/png": "[encoded data removed]",
      "text/plain": [
       "<Figure size 432x288 with 1 Axes>"
      ]
     },
     "metadata": {
      "needs_background": "light"
     },
     "output_type": "display_data"
    }
   ],
   "source": [
    "import matplotlib.pyplot as plt\n",
    "\n",
    "def plot_accuracies(history):\n",
    "    \"\"\" Plot the history of accuracies\"\"\"\n",
    "    accuracies = [x['val_acc'] for x in history]\n",
    "    plt.plot(accuracies, '-x')\n",
    "    plt.xlabel('epoch')\n",
    "    plt.ylabel('accuracy')\n",
    "    plt.title('Accuracy vs. No. of epochs');\n",
    "    \n",
    "\n",
    "plot_accuracies(history)"
   ]
  },
  {
   "cell_type": "code",
   "execution_count": 19,
   "id": "4bf8b30b",
   "metadata": {
    "colab": {
     "base_uri": "https://localhost:8080/",
     "height": 295
    },
    "id": "4bf8b30b",
    "outputId": "764a381a-b42b-4ba5-e8f2-feba012d5078"
   },
   "outputs": [
    {
     "data": {
      "image/png": "[encoded data removed]",
      "text/plain": [
       "<Figure size 432x288 with 1 Axes>"
      ]
     },
     "metadata": {
      "needs_background": "light"
     },
     "output_type": "display_data"
    }
   ],
   "source": [
    "def plot_losses(history):\n",
    "    \"\"\" Plot the losses in each epoch\"\"\"\n",
    "    train_losses = [x.get('train_loss') for x in history]\n",
    "    val_losses = [x['val_loss'] for x in history]\n",
    "    plt.plot(train_losses, '-bx')\n",
    "    plt.plot(val_losses, '-rx')\n",
    "    plt.xlabel('epoch')\n",
    "    plt.ylabel('loss')\n",
    "    plt.legend(['Training', 'Validation'])\n",
    "    plt.title('Loss vs. No. of epochs');\n",
    "\n",
    "plot_losses(history)"
   ]
  },
  {
   "cell_type": "code",
   "execution_count": 16,
   "id": "6J0r-tQo6NgM",
   "metadata": {
    "colab": {
     "base_uri": "https://localhost:8080/",
     "height": 324
    },
    "id": "6J0r-tQo6NgM",
    "outputId": "244ef319-012e-4b5d-9498-315e1de58824"
   },
   "outputs": [
    {
     "ename": "AttributeError",
     "evalue": "ignored",
     "output_type": "error",
     "traceback": [
      "\u001b[0;31m---------------------------------------------------------------------------\u001b[0m",
      "\u001b[0;31mAttributeError\u001b[0m                            Traceback (most recent call last)",
      "\u001b[0;32m<ipython-input-16-71432f0bcb9d>\u001b[0m in \u001b[0;36m<module>\u001b[0;34m()\u001b[0m\n\u001b[0;32m----> 1\u001b[0;31m \u001b[0mmodel\u001b[0m\u001b[0;34m.\u001b[0m\u001b[0mload_state_dict\u001b[0m\u001b[0;34m(\u001b[0m\u001b[0mtorch\u001b[0m\u001b[0;34m.\u001b[0m\u001b[0mload\u001b[0m\u001b[0;34m(\u001b[0m\u001b[0mmodel_path\u001b[0m\u001b[0;34m,\u001b[0m \u001b[0mdevice\u001b[0m\u001b[0;34m)\u001b[0m\u001b[0;34m,\u001b[0m \u001b[0mstrict\u001b[0m\u001b[0;34m=\u001b[0m\u001b[0;32mFalse\u001b[0m\u001b[0;34m)\u001b[0m\u001b[0;34m\u001b[0m\u001b[0;34m\u001b[0m\u001b[0m\n\u001b[0m\u001b[1;32m      2\u001b[0m \u001b[0mmodel\u001b[0m\u001b[0;34m.\u001b[0m\u001b[0meval\u001b[0m\u001b[0;34m(\u001b[0m\u001b[0;34m)\u001b[0m\u001b[0;34m\u001b[0m\u001b[0;34m\u001b[0m\u001b[0m\n",
      "\u001b[0;32m/usr/local/lib/python3.7/dist-packages/torch/nn/modules/module.py\u001b[0m in \u001b[0;36mload_state_dict\u001b[0;34m(self, state_dict, strict)\u001b[0m\n\u001b[1;32m   1453\u001b[0m         \u001b[0;31m# copy state_dict so _load_from_state_dict can modify it\u001b[0m\u001b[0;34m\u001b[0m\u001b[0;34m\u001b[0m\u001b[0;34m\u001b[0m\u001b[0m\n\u001b[1;32m   1454\u001b[0m         \u001b[0mmetadata\u001b[0m \u001b[0;34m=\u001b[0m \u001b[0mgetattr\u001b[0m\u001b[0;34m(\u001b[0m\u001b[0mstate_dict\u001b[0m\u001b[0;34m,\u001b[0m \u001b[0;34m'_metadata'\u001b[0m\u001b[0;34m,\u001b[0m \u001b[0;32mNone\u001b[0m\u001b[0;34m)\u001b[0m\u001b[0;34m\u001b[0m\u001b[0;34m\u001b[0m\u001b[0m\n\u001b[0;32m-> 1455\u001b[0;31m         \u001b[0mstate_dict\u001b[0m \u001b[0;34m=\u001b[0m \u001b[0mstate_dict\u001b[0m\u001b[0;34m.\u001b[0m\u001b[0mcopy\u001b[0m\u001b[0;34m(\u001b[0m\u001b[0;34m)\u001b[0m\u001b[0;34m\u001b[0m\u001b[0;34m\u001b[0m\u001b[0m\n\u001b[0m\u001b[1;32m   1456\u001b[0m         \u001b[0;32mif\u001b[0m \u001b[0mmetadata\u001b[0m \u001b[0;32mis\u001b[0m \u001b[0;32mnot\u001b[0m \u001b[0;32mNone\u001b[0m\u001b[0;34m:\u001b[0m\u001b[0;34m\u001b[0m\u001b[0;34m\u001b[0m\u001b[0m\n\u001b[1;32m   1457\u001b[0m             \u001b[0;31m# mypy isn't aware that \"_metadata\" exists in state_dict\u001b[0m\u001b[0;34m\u001b[0m\u001b[0;34m\u001b[0m\u001b[0;34m\u001b[0m\u001b[0m\n",
      "\u001b[0;32m/usr/local/lib/python3.7/dist-packages/torch/nn/modules/module.py\u001b[0m in \u001b[0;36m__getattr__\u001b[0;34m(self, name)\u001b[0m\n\u001b[1;32m   1176\u001b[0m                 \u001b[0;32mreturn\u001b[0m \u001b[0mmodules\u001b[0m\u001b[0;34m[\u001b[0m\u001b[0mname\u001b[0m\u001b[0;34m]\u001b[0m\u001b[0;34m\u001b[0m\u001b[0;34m\u001b[0m\u001b[0m\n\u001b[1;32m   1177\u001b[0m         raise AttributeError(\"'{}' object has no attribute '{}'\".format(\n\u001b[0;32m-> 1178\u001b[0;31m             type(self).__name__, name))\n\u001b[0m\u001b[1;32m   1179\u001b[0m \u001b[0;34m\u001b[0m\u001b[0m\n\u001b[1;32m   1180\u001b[0m     \u001b[0;32mdef\u001b[0m \u001b[0m__setattr__\u001b[0m\u001b[0;34m(\u001b[0m\u001b[0mself\u001b[0m\u001b[0;34m,\u001b[0m \u001b[0mname\u001b[0m\u001b[0;34m:\u001b[0m \u001b[0mstr\u001b[0m\u001b[0;34m,\u001b[0m \u001b[0mvalue\u001b[0m\u001b[0;34m:\u001b[0m \u001b[0mUnion\u001b[0m\u001b[0;34m[\u001b[0m\u001b[0mTensor\u001b[0m\u001b[0;34m,\u001b[0m \u001b[0;34m'Module'\u001b[0m\u001b[0;34m]\u001b[0m\u001b[0;34m)\u001b[0m \u001b[0;34m->\u001b[0m \u001b[0;32mNone\u001b[0m\u001b[0;34m:\u001b[0m\u001b[0;34m\u001b[0m\u001b[0;34m\u001b[0m\u001b[0m\n",
      "\u001b[0;31mAttributeError\u001b[0m: 'CNN' object has no attribute 'copy'"
     ]
    }
   ],
   "source": [
    "model.load_state_dict(torch.load(model_path, device), strict=False)\n",
    "model.eval()"
   ]
  },
  {
   "cell_type": "code",
   "execution_count": 20,
   "id": "ti3qPWSu6Ibs",
   "metadata": {
    "colab": {
     "base_uri": "https://localhost:8080/"
    },
    "id": "ti3qPWSu6Ibs",
    "outputId": "f8be9477-c284-467e-8c0b-2252ffd19a51"
   },
   "outputs": [
    {
     "name": "stdout",
     "output_type": "stream",
     "text": [
      "Loading test set\n"
     ]
    }
   ],
   "source": [
    "test_dataset = FaceMaskDataset(test_indexes, conversion=transform)\n",
    "print(\"Loading test set\")\n",
    "test_loader = torch.utils.data.DataLoader(\n",
    "    dataset=test_dataset, batch_size=batch_size, shuffle=True, num_workers=0)"
   ]
  },
  {
   "cell_type": "code",
   "execution_count": 22,
   "id": "QSiViMuXfOMr",
   "metadata": {
    "colab": {
     "base_uri": "https://localhost:8080/",
     "height": 663
    },
    "id": "QSiViMuXfOMr",
    "outputId": "84d5264b-a2d6-4eca-ddd0-f30864ddc209"
   },
   "outputs": [
    {
     "name": "stdout",
     "output_type": "stream",
     "text": [
      "Test Accuracy of the model: 90.69767441860465 %\n"
     ]
    },
    {
     "data": {
      "image/png": "[encoded data removed]",
      "text/plain": [
       "<Figure size 720x504 with 2 Axes>"
      ]
     },
     "metadata": {
      "needs_background": "light"
     },
     "output_type": "display_data"
    },
    {
     "name": "stdout",
     "output_type": "stream",
     "text": [
      "              precision    recall  f1-score   support\n",
      "\n",
      "         0.0       0.89      0.91      0.90       400\n",
      "         1.0       0.92      0.94      0.93       400\n",
      "         2.0       0.91      0.93      0.92       400\n",
      "         3.0       0.89      0.74      0.81       133\n",
      "\n",
      "    accuracy                           0.91      1333\n",
      "   macro avg       0.90      0.88      0.89      1333\n",
      "weighted avg       0.91      0.91      0.91      1333\n",
      "\n"
     ]
    }
   ],
   "source": [
    "from sklearn.metrics import confusion_matrix, classification_report\n",
    "import seaborn as sns\n",
    "\n",
    "y_true = torch.tensor([])\n",
    "y_true = y_true.to(device)\n",
    "y_preds = torch.tensor([])\n",
    "y_preds = y_preds.to(device)\n",
    "\n",
    "# test-the-model\n",
    "model.eval()  # it-disables-dropout\n",
    "with torch.no_grad():\n",
    "    correct = 0\n",
    "    total = 0\n",
    "    for images, labels in test_loader:\n",
    "        images = images.to(device)\n",
    "        labels = labels.to(device)\n",
    "        y_true = torch.cat(\n",
    "            (y_true, labels)\n",
    "        )\n",
    "        outputs = model(images)\n",
    "        _, predicted = torch.max(outputs.data, 1)\n",
    "        total += labels.size(0)\n",
    "        correct += (predicted == labels).sum().item()\n",
    "        y_preds = torch.cat(\n",
    "            (y_preds, predicted)\n",
    "        )\n",
    "          \n",
    "    print('Test Accuracy of the model: {} %'.format(100 * correct / total))\n",
    "\n",
    "\n",
    "y_true = y_true.to('cpu')\n",
    "y_preds = y_preds.to('cpu')\n",
    "matrix = confusion_matrix(y_true, y_preds)\n",
    "plt.figure(figsize = (10,7))\n",
    "ax = sns.heatmap(matrix, fmt='', annot=True, cmap='Blues')\n",
    "ax.set_title('Confusion Matrix with labels!!');\n",
    "ax.set_xlabel('Predicted Mask Type')\n",
    "ax.set_ylabel('Actual Mask Type')\n",
    "ax.xaxis.set_ticklabels([i for i in classes.keys()])\n",
    "ax.yaxis.set_ticklabels([i for i in classes.keys()])\n",
    "plt.show()\n",
    "\n",
    "from sklearn.metrics import precision_recall_fscore_support as score\n",
    "precision, recall, fscore, support = score(y_true, y_preds)\n",
    "print(classification_report(y_true,y_preds))"
   ]
  },
  {
   "cell_type": "code",
   "execution_count": null,
   "id": "2Q419aDnyF00",
   "metadata": {
    "id": "2Q419aDnyF00"
   },
   "outputs": [],
   "source": [
    "def label_to_classname(label):\n",
    "  for classname in classes.keys():\n",
    "    if classes[classname] == label:\n",
    "      return classname\n",
    "  return 'NULL'"
   ]
  },
  {
   "cell_type": "code",
   "execution_count": null,
   "id": "7f67cc65",
   "metadata": {
    "colab": {
     "base_uri": "https://localhost:8080/"
    },
    "id": "7f67cc65",
    "outputId": "57b92ea0-6f2f-4201-acdd-8105d52892b7"
   },
   "outputs": [
    {
     "name": "stdout",
     "output_type": "stream",
     "text": [
      "1.jpg file is mask_surgical\n",
      "0748.jpg file is face_no_mask\n",
      "4.jpg file is mask_surgical\n",
      "3.png file is ffp2_mask\n"
     ]
    }
   ],
   "source": [
    "new_images_path = os.path.join(root_folder, \"./test\")\n",
    "\n",
    "new_images = os.listdir(new_images_path)\n",
    "\n",
    "with torch.no_grad():\n",
    "    for image in new_images:\n",
    "      file_name = image\n",
    "      image = transform(Image.open(os.path.join(new_images_path, image)).convert('RGB'))\n",
    "      # image = image.unsqueeze(1)\n",
    "      image = image.unsqueeze(0)\n",
    "      image = image.to(device)\n",
    "      labels = model(image)\n",
    "      _, predicted = torch.max(labels.data, 1)\n",
    "      print(f'{file_name} file is {label_to_classname(predicted[0])}')\n"
   ]
  },
  {
   "cell_type": "code",
   "execution_count": null,
   "id": "25d62024",
   "metadata": {
    "id": "25d62024"
   },
   "outputs": [],
   "source": [
    "# transform = transforms.Compose(\n",
    "#     [transforms.Resize((100, 100)),\n",
    "#         transforms.ToTensor(),\n",
    "#         transforms.Normalize((0.5, 0.5, 0.5), (0.5, 0.5, 0.5))])\n",
    "\n",
    "\n",
    "# new_data_folder = \"./data/new/images\"\n",
    "\n",
    "# tensor_image = transforms.ToPILImage()(transform(Image.open(os.path.join(new_data_folder, '1.png'))))\n",
    "\n",
    "# import matplotlib.pyplot as plt\n",
    "\n",
    "# plt.imshow(tensor_image)\n",
    "# plt.show()"
   ]
  }
 ],
 "metadata": {
  "accelerator": "GPU",
  "colab": {
   "collapsed_sections": [],
   "machine_shape": "hm",
   "name": "Project.ipynb",
   "provenance": []
  },
  "kernelspec": {
   "display_name": "Python 3",
   "language": "python",
   "name": "python3"
  },
  "language_info": {
   "codemirror_mode": {
    "name": "ipython",
    "version": 3
   },
   "file_extension": ".py",
   "mimetype": "text/x-python",
   "name": "python",
   "nbconvert_exporter": "python",
   "pygments_lexer": "ipython3",
   "version": "3.8.8"
  }
 },
 "nbformat": 4,
 "nbformat_minor": 5
}
