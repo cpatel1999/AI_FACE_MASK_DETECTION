{
 "cells": [
  {
   "cell_type": "code",
   "execution_count": 19,
   "id": "9201b380",
   "metadata": {},
   "outputs": [
    {
     "name": "stdout",
     "output_type": "stream",
     "text": [
      "Files already downloaded and verified\n",
      "Files already downloaded and verified\n",
      "torch.Size([3, 32, 32])\n"
     ]
    }
   ],
   "source": [
    "from torch.utils.data import DataLoader\n",
    "import torch\n",
    "import torch.nn as nn\n",
    "import torchvision.transforms as transforms\n",
    "import torchvision.datasets\n",
    "\n",
    "num_epochs = 4\n",
    "num_classes = 10\n",
    "learning_rate = 0.001\n",
    "transform = transforms.Compose(\n",
    "       [transforms.ToTensor(),\n",
    "        transforms.Normalize((0.5, 0.5, 0.5), (0.5, 0.5, 0.5))])\n",
    "trainset = torchvision.datasets.CIFAR10(root='./data', train=True,\n",
    "                              download=True, transform=transform)\n",
    "train_loader = torch.utils.data.DataLoader(trainset, batch_size=32,\n",
    "                                shuffle=True, num_workers=2)\n",
    "testset = torchvision.datasets.CIFAR10(root='./data', train=False,\n",
    "                             download=True, transform=transform)\n",
    "test_loader = torch.utils.data.DataLoader(testset, batch_size=1000,\n",
    "                               shuffle=False, num_workers=2)\n",
    "classes = ('plane', 'car', 'bird', 'cat',\n",
    "            'deer', 'dog', 'frog', 'horse', 'ship', 'truck')\n",
    "\n",
    "print(trainset[0][0].shape)"
   ]
  },
  {
   "cell_type": "code",
   "execution_count": 20,
   "id": "b20c3492",
   "metadata": {},
   "outputs": [],
   "source": [
    "class CNN(nn.Module):\n",
    "    def __init__(self):\n",
    "        super(CNN, self).__init__()\n",
    "        self.conv_layer = nn.Sequential(\n",
    "                        nn.Conv2d(in_channels=3, out_channels=32, kernel_size=3, padding=1),\n",
    "                        nn.BatchNorm2d(32),\n",
    "                        nn.LeakyReLU(inplace=True),\n",
    "                        nn.Conv2d(in_channels=32, out_channels=32, kernel_size=3, padding=1),\n",
    "                        nn.BatchNorm2d(32),\n",
    "                        nn.LeakyReLU(inplace=True),\n",
    "                        nn.MaxPool2d(kernel_size=2, stride=2),\n",
    "                        \n",
    "                        nn.Conv2d(in_channels=32, out_channels=64, kernel_size=3, padding=1),\n",
    "                        nn.BatchNorm2d(64),\n",
    "                        nn.LeakyReLU(inplace=True),\n",
    "                        nn.Conv2d(in_channels=64, out_channels=64, kernel_size=3, padding=1),\n",
    "                        nn.BatchNorm2d(64),\n",
    "                        nn.LeakyReLU(inplace=True),\n",
    "                        nn.MaxPool2d(kernel_size=2, stride=2),\n",
    "                     )\n",
    "        self.fc_layer = nn.Sequential( nn.Dropout(p=0.1), nn.Linear(8 * 8 * 64, 1000), nn.ReLU(inplace=True), nn.Linear(1000, 512), nn.ReLU(inplace=True), nn.Dropout(p=0.1), nn.Linear(512, 10))\n",
    "    def forward(self, x):\n",
    "        # conv layers\n",
    "        x = self.conv_layer(x)\n",
    "        \n",
    "        print(x.shape)\n",
    "        # flatten\n",
    "        x = x.view(x.size(0), -1)\n",
    "        # fc layer\n",
    "        x = self.fc_layer(x)\n",
    "        return x\n",
    "\n",
    "model = CNN()\n",
    "criterion = nn.CrossEntropyLoss()\n",
    "optimizer = torch.optim.Adam(model.parameters(), lr=learning_rate)\n",
    "\n",
    "total_step = len(train_loader)\n",
    "loss_list = []\n",
    "acc_list = []\n"
   ]
  },
  {
   "cell_type": "code",
   "execution_count": 21,
   "id": "120cc738",
   "metadata": {},
   "outputs": [
    {
     "name": "stdout",
     "output_type": "stream",
     "text": [
      "<class 'torch.Tensor'>\n",
      "torch.Size([32, 64, 8, 8])\n",
      "<class 'torch.Tensor'>\n",
      "torch.Size([32, 64, 8, 8])\n",
      "<class 'torch.Tensor'>\n",
      "torch.Size([32, 64, 8, 8])\n",
      "<class 'torch.Tensor'>\n",
      "torch.Size([32, 64, 8, 8])\n"
     ]
    }
   ],
   "source": [
    "for epoch in range(num_epochs):\n",
    "    for i, (images, labels) in enumerate(train_loader): # Forward pass\n",
    "        print(type(images))\n",
    "        outputs = model(images)\n",
    "        \n",
    "        break\n",
    "        loss = criterion(outputs, labels)\n",
    "        loss_list.append(loss.item())\n",
    "        \n",
    "        # Backprop and optimisation\n",
    "        optimizer.zero_grad()\n",
    "        loss.backward()\n",
    "        optimizer.step()\n",
    "        \n",
    "        # Train accuracy\n",
    "        total = labels.size(0)\n",
    "        _, predicted = torch.max(outputs.data, 1)\n",
    "        correct = (predicted == labels).sum().item()\n",
    "        acc_list.append(correct / total)\n",
    "        \n",
    "        if (i + 1) % 100 == 0:\n",
    "            print('Epoch [{}/{}], Step [{}/{}], Loss: {:.4f}, Accuracy: {:.2f}%'.format(epoch + 1, num_epochs, i + 1, total_step, loss.item(), (correct / total) * 100))          "
   ]
  },
  {
   "cell_type": "code",
   "execution_count": null,
   "id": "8b895f47",
   "metadata": {},
   "outputs": [],
   "source": [
    "model.eval()\n",
    "with torch.no_grad():\n",
    "    correct = 0\n",
    "    total = 0\n",
    "    for images, labels in test_loader:\n",
    "        outputs = model(images)\n",
    "        _, predicted = torch.max(outputs.data, 1)\n",
    "        total += labels.size(0)\n",
    "        correct += (predicted == labels).sum().item()\n",
    "    print('Test Accuracy of the model on the 10000 test images: {} %' .format((correct / total) * 100))"
   ]
  },
  {
   "cell_type": "code",
   "execution_count": null,
   "id": "7ef1ac29",
   "metadata": {},
   "outputs": [],
   "source": []
  }
 ],
 "metadata": {
  "kernelspec": {
   "display_name": "Python 3 (ipykernel)",
   "language": "python",
   "name": "python3"
  },
  "language_info": {
   "codemirror_mode": {
    "name": "ipython",
    "version": 3
   },
   "file_extension": ".py",
   "mimetype": "text/x-python",
   "name": "python",
   "nbconvert_exporter": "python",
   "pygments_lexer": "ipython3",
   "version": "3.8.8"
  }
 },
 "nbformat": 4,
 "nbformat_minor": 5
}
