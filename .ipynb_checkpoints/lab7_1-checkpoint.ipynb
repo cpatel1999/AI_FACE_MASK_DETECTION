{
 "cells": [
  {
   "cell_type": "code",
   "execution_count": null,
   "id": "c4b3b363",
   "metadata": {},
   "outputs": [],
   "source": [
    "#!/usr/bin/env python3\n",
    "# -*- coding: utf-8 -*-\n",
    "\"\"\"\n",
    "Created on Wed Nov  3 15:55:10 2021\n",
    "\n",
    "@author: brijeshlakkad\n",
    "\"\"\"\n",
    "\n",
    "import torch\n",
    "import torchvision.transforms as transforms\n",
    "import torchvision.datasets as datasets\n",
    "import torch.nn as nn\n",
    "import torch.nn.functional as F\n",
    "import torch.utils.data as td\n",
    "\n",
    "def cifar_loader(batch_size, shuffle_test=False):\n",
    "    normalize = transforms.Normalize(mean=[0.485, 0.456, 0.406],\n",
    "                                       std=[0.225, 0.225, 0.225])\n",
    "    train = datasets.CIFAR10('./data', train=True, download=True,\n",
    "        transform=transforms.Compose([transforms.RandomHorizontalFlip(),\n",
    "        transforms.RandomCrop(32, 4), transforms.ToTensor(), normalize]))\n",
    "    test = datasets.CIFAR10('./data', train=False,\n",
    "        transform=transforms.Compose([transforms.ToTensor(), normalize]))\n",
    "    train_loader = torch.utils.data.DataLoader(train, batch_size=batch_size,\n",
    "        shuffle=True, pin_memory=True)\n",
    "    test_loader = torch.utils.data.DataLoader(test, batch_size=batch_size, shuffle=shuffle_test, pin_memory=True) \n",
    "    return train_loader, test_loader"
   ]
  },
  {
   "cell_type": "code",
   "execution_count": null,
   "id": "5e378708",
   "metadata": {},
   "outputs": [],
   "source": [
    "\n",
    "\n",
    "batch_size = 64\n",
    "test_batch_size = 64\n",
    "input_size = 3072\n",
    "N = batch_size\n",
    "D_in = input_size\n",
    "H = 50\n",
    "D_out = 10\n",
    "num_epochs = 10\n",
    "\n",
    "\n",
    "train_loader, _ = cifar_loader(batch_size)\n",
    "_, test_loader = cifar_loader(test_batch_size)\n",
    "\n",
    "\n",
    "class MultiLayerFCNet(nn.Module):\n",
    "    def __init__(self, D_in, H, D_out):\n",
    "        super(MultiLayerFCNet, self).__init__()\n",
    "        self.linear1 = torch.nn.Linear(D_in, H)\n",
    "        self.linear2 = torch.nn.Linear(H, H)\n",
    "        self.linear3 = torch.nn.Linear(H, H)\n",
    "        self.linear4 = torch.nn.Linear(H, D_out)\n",
    "    def forward(self, x):\n",
    "        x = F.relu(self.linear1(x))\n",
    "        x = F.relu(self.linear2(x))\n",
    "        x = F.relu(self.linear3(x))\n",
    "        x = self.linear4(x)\n",
    "        return F.log_softmax(x)\n"
   ]
  },
  {
   "cell_type": "code",
   "execution_count": null,
   "id": "5f74b826",
   "metadata": {},
   "outputs": [],
   "source": [
    "model = MultiLayerFCNet(D_in, H, D_out)\n",
    "criterion = torch.nn.CrossEntropyLoss()\n",
    "optimizer = torch.optim.SGD(model.parameters(), lr=0.01, momentum=0.9)"
   ]
  },
  {
   "cell_type": "code",
   "execution_count": null,
   "id": "2dfe9ed1",
   "metadata": {},
   "outputs": [],
   "source": [
    "for epoch in range(num_epochs):\n",
    "    avg_loss_epoch = 0\n",
    "    batch_loss = 0\n",
    "    total_batches = 0\n",
    "    for i, (images, labels) in enumerate(train_loader):\n",
    "        images = images.reshape(-1, 32 * 32 * 3)\n",
    "        outputs = model(images)\n",
    "        loss = criterion(outputs, labels)\n",
    "        optimizer.zero_grad()\n",
    "        loss.backward()\n",
    "        optimizer.step()\n",
    "        total_batches += 1\n",
    "        batch_loss += loss.item()\n",
    "    avg_loss_epoch = batch_loss / total_batches\n",
    "    print('Epoch [{}/{}], Averge Loss:for epoch[{}, {:.4f}]'.format(epoch + 1, num_epochs, epoch + 1, avg_loss_epoch))"
   ]
  },
  {
   "cell_type": "code",
   "execution_count": null,
   "id": "58d69494",
   "metadata": {},
   "outputs": [],
   "source": [
    "\n",
    "correct = 0\n",
    "total = 0\n",
    "for images, labels in test_loader:\n",
    "    images = images.reshape(-1, 3 * 32 * 32)\n",
    "    outputs_test = model(images)\n",
    "    _, predicted = torch.max(outputs_test.data, 1)\n",
    "    total += labels.size(0)\n",
    "    correct += (predicted == labels).sum().item()\n",
    "    print('Accuracy of the network on the 10000 test images: %d %%' % (100 * correct / total))"
   ]
  }
 ],
 "metadata": {
  "kernelspec": {
   "display_name": "Python 3 (ipykernel)",
   "language": "python",
   "name": "python3"
  },
  "language_info": {
   "codemirror_mode": {
    "name": "ipython",
    "version": 3
   },
   "file_extension": ".py",
   "mimetype": "text/x-python",
   "name": "python",
   "nbconvert_exporter": "python",
   "pygments_lexer": "ipython3",
   "version": "3.8.8"
  }
 },
 "nbformat": 4,
 "nbformat_minor": 5
}
